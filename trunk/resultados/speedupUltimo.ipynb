{
 "metadata": {
  "name": "",
  "signature": "sha256:dd2a38d2ea0fccfea3c350cb2ce25f7f612b4628343fe828c45d5e614774d331"
 },
 "nbformat": 3,
 "nbformat_minor": 0,
 "worksheets": [
  {
   "cells": [
    {
     "cell_type": "code",
     "collapsed": false,
     "input": [
      "import re\n",
      "#%matplotlib inline\n",
      "import matplotlib\n",
      "import matplotlib.pyplot as plt\n",
      "import numpy as np\n",
      "\n",
      "x = []\n",
      "times = []\n",
      "\n",
      "files = []\n",
      "#4 proc\n",
      "#files.append(open('./speedup/speed_4_1.o12459', 'r'))\n",
      "#files.append(open('./speedup/speed_4_2.o12601', 'r'))\n",
      "\n",
      "#8proc\n",
      "#files.append(open('./speedup/speed_8_1.o12460', 'r'))\n",
      "#files.append(open('./speedup/speed_8_2.o12602', 'r'))\n",
      "\n",
      "#16proc\n",
      "#files.append(open('./speedup/speed_16_2.o12609', 'r'))\n",
      "\n",
      "#32proc\n",
      "#files.append(open('./speedup/speed_32_1.o12457', 'r'))\n",
      "#files.append(open('./speedup/speed_32_3.o12608', 'r'))\n",
      "#files.append(open('./speedup/speed_32_3.o12650', 'r'))\n",
      "\n",
      "#files.append(open('garzon_posta_4proc.o10355', 'r'))\n",
      "#files.append(open('garzon_posta_8proc.o10356', 'r'))\n",
      "#files.append(open('garzon_posta_16proc.o10357', 'r'))\n",
      "\n",
      "#files.append(open('./speedup/speed_4_quick.o13363', 'r'))\n",
      "#files.append(open('./speedup/speed_8_quick.o13362', 'r'))\n",
      "#files.append(open('./speedup/speed_16_quick2.o13361', 'r'))\n",
      "\n",
      "#files.append(open('./speedup/speed_8_quick2.o13406', 'r'))\n",
      "#files.append(open('./speedup/speed_16_quick3.o13421', 'r'))\n",
      "#files.append(open('./speedup/speed_64_3.o13477', 'r'))\n",
      "#files.append(open('./speedup/speed_24_4.o13479', 'r'))\n",
      "\n",
      "#files.append(open('./speedup/speed_12_node31.o13482', 'r'))\n",
      "#files.append(open('./speedup/speed_8_node31.o13481', 'r'))\n",
      "files.append(open('./speedup/speed_4_quick_node31_2.o13575', 'r'))\n",
      "\n",
      "lasttime = 0\n",
      "addValue = False\n",
      "addCost = False\n",
      "colors = ['r-', 'b-', 'g-']\n",
      "nc = 0\n",
      "\n",
      "#filew = open(\"32.txt\", \"w\")\n",
      "for file in files:\n",
      "    for line in file:\n",
      "        \n",
      "        a = re.search('Current iteration: 500', line)\n",
      "        if a:\n",
      "            addValue = True\n",
      "            #print \"truevlaue\"\n",
      "        m = re.search('Best cost trial: (\\d*\\.\\d*)', line)\n",
      "        \n",
      "        if m and addValue:\n",
      "            addCost = True\n",
      "            cost = m.group(1)\n",
      "            addValue = False\n",
      "            #print \"trucost\"\n",
      "\n",
      "        t = re.search('Current time spent \\(so far\\): (.*)', line)\n",
      "        \n",
      "        if t and addCost:\n",
      "            tiempoAcumulado = float(t.group(1)) * 1.66666667 * 0.00000001\n",
      "            time  = tiempoAcumulado - lasttime# pasar de micro a minutos\n",
      "            x.append(cost)\n",
      "            times.append(\"{0:.2f}\".format(time).replace(\".\", \",\"))\n",
      "            addValue = False\n",
      "            addCost = False\n",
      "            lasttime = tiempoAcumulado\n",
      "    #x.pop()\n",
      "    #times.pop() #elimino el ultimo elemento del archivo pq esta repetido\n",
      "    file.close()\n",
      "    lasttime = 0\n",
      "\n",
      "for n in range(0, len(times)):\n",
      "    #print \"%s   %s\" % (times[n], x[n])\n",
      "    print \"%s\" % (times[n])\n",
      "\n",
      "\n",
      "\n"
     ],
     "language": "python",
     "metadata": {},
     "outputs": [
      {
       "output_type": "stream",
       "stream": "stdout",
       "text": [
        "109,25\n",
        "107,77\n",
        "112,93\n",
        "110,16\n",
        "0,00\n"
       ]
      }
     ],
     "prompt_number": 8
    },
    {
     "cell_type": "code",
     "collapsed": false,
     "input": [],
     "language": "python",
     "metadata": {},
     "outputs": []
    },
    {
     "cell_type": "code",
     "collapsed": false,
     "input": [],
     "language": "python",
     "metadata": {},
     "outputs": [],
     "prompt_number": 0
    },
    {
     "cell_type": "code",
     "collapsed": false,
     "input": [],
     "language": "python",
     "metadata": {},
     "outputs": [],
     "prompt_number": 0
    },
    {
     "cell_type": "code",
     "collapsed": false,
     "input": [],
     "language": "python",
     "metadata": {},
     "outputs": []
    }
   ],
   "metadata": {}
  }
 ]
}