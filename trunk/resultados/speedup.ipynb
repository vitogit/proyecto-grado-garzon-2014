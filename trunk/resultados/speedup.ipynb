{
 "metadata": {
  "name": "",
  "signature": "sha256:54795bdc495548361a303ccf83313e90eaa41736b875e84503dcf31c803d40bf"
 },
 "nbformat": 3,
 "nbformat_minor": 0,
 "worksheets": [
  {
   "cells": [
    {
     "cell_type": "code",
     "collapsed": false,
     "input": [
      "import re\n",
      "#%matplotlib inline\n",
      "import matplotlib\n",
      "import matplotlib.pyplot as plt\n",
      "import numpy as np\n",
      "\n",
      "x = []\n",
      "times = []\n",
      "\n",
      "files = []\n",
      "files.append(open('garzon_posta_4proc.o10355', 'r'))\n",
      "\n",
      "\n",
      "#files.append(open('garzon_posta_8proc.o10356', 'r'))\n",
      "#files.append(open('garzon_posta_16proc.o10357', 'r'))\n",
      "\n",
      "addValue = False\n",
      "addCost = False\n",
      "colors = ['r-', 'b-', 'g-']\n",
      "nc = 0\n",
      "\n",
      "#filew = open(\"32.txt\", \"w\")\n",
      "for file in files:\n",
      "    for line in file:\n",
      "        \n",
      "        a = re.search('Current iteration: 500', line)\n",
      "        if a:\n",
      "            addValue = True\n",
      "            #print \"truevlaue\"\n",
      "        m = re.search('Best cost trial: (\\d*\\.\\d*)', line)\n",
      "        \n",
      "        if m and addValue:\n",
      "            addCost = True\n",
      "            cost = m.group(1)\n",
      "            addValue = False\n",
      "            #print \"trucost\"\n",
      "\n",
      "        t = re.search('Current time spent \\(so far\\): (.*)', line)\n",
      "        \n",
      "        if t and addCost:\n",
      "            time = t.group(1)*1.66666667 * 0.00000000001\n",
      "            x.append(cost)\n",
      "            times.append(time)\n",
      "            addValue = False\n",
      "            addCost = False\n",
      "    \n",
      "    file.close()\n",
      "\n",
      "print x\n",
      "print times\n",
      "\n"
     ],
     "language": "python",
     "metadata": {},
     "outputs": [
      {
       "ename": "TypeError",
       "evalue": "can't multiply sequence by non-int of type 'float'",
       "output_type": "pyerr",
       "traceback": [
        "\u001b[1;31m---------------------------------------------------------------------------\u001b[0m\n\u001b[1;31mTypeError\u001b[0m                                 Traceback (most recent call last)",
        "\u001b[1;32m<ipython-input-20-f1e5ebcbe64a>\u001b[0m in \u001b[0;36m<module>\u001b[1;34m()\u001b[0m\n\u001b[0;32m     39\u001b[0m \u001b[1;33m\u001b[0m\u001b[0m\n\u001b[0;32m     40\u001b[0m         \u001b[1;32mif\u001b[0m \u001b[0mt\u001b[0m \u001b[1;32mand\u001b[0m \u001b[0maddCost\u001b[0m\u001b[1;33m:\u001b[0m\u001b[1;33m\u001b[0m\u001b[0m\n\u001b[1;32m---> 41\u001b[1;33m             \u001b[0mtime\u001b[0m \u001b[1;33m=\u001b[0m \u001b[0mt\u001b[0m\u001b[1;33m.\u001b[0m\u001b[0mgroup\u001b[0m\u001b[1;33m(\u001b[0m\u001b[1;36m1\u001b[0m\u001b[1;33m)\u001b[0m\u001b[1;33m*\u001b[0m\u001b[1;36m1.66666667\u001b[0m \u001b[1;33m*\u001b[0m \u001b[1;36m0.00000000001\u001b[0m\u001b[1;33m\u001b[0m\u001b[0m\n\u001b[0m\u001b[0;32m     42\u001b[0m             \u001b[0mx\u001b[0m\u001b[1;33m.\u001b[0m\u001b[0mappend\u001b[0m\u001b[1;33m(\u001b[0m\u001b[0mcost\u001b[0m\u001b[1;33m)\u001b[0m\u001b[1;33m\u001b[0m\u001b[0m\n\u001b[0;32m     43\u001b[0m             \u001b[0mtimes\u001b[0m\u001b[1;33m.\u001b[0m\u001b[0mappend\u001b[0m\u001b[1;33m(\u001b[0m\u001b[0mtime\u001b[0m\u001b[1;33m)\u001b[0m\u001b[1;33m\u001b[0m\u001b[0m\n",
        "\u001b[1;31mTypeError\u001b[0m: can't multiply sequence by non-int of type 'float'"
       ]
      }
     ],
     "prompt_number": 20
    },
    {
     "cell_type": "code",
     "collapsed": false,
     "input": [],
     "language": "python",
     "metadata": {},
     "outputs": []
    },
    {
     "cell_type": "code",
     "collapsed": false,
     "input": [],
     "language": "python",
     "metadata": {},
     "outputs": [],
     "prompt_number": 0
    },
    {
     "cell_type": "code",
     "collapsed": false,
     "input": [],
     "language": "python",
     "metadata": {},
     "outputs": [],
     "prompt_number": 0
    },
    {
     "cell_type": "code",
     "collapsed": false,
     "input": [],
     "language": "python",
     "metadata": {},
     "outputs": []
    }
   ],
   "metadata": {}
  }
 ]
}