{
 "metadata": {
  "name": "",
  "signature": "sha256:bfdb8442a920642aa891ca7fcc22fbc8983e9bd5797427d43e68ad956a6f51b6"
 },
 "nbformat": 3,
 "nbformat_minor": 0,
 "worksheets": [
  {
   "cells": [
    {
     "cell_type": "code",
     "collapsed": false,
     "input": [
      "import re\n",
      "#%matplotlib inline\n",
      "import matplotlib\n",
      "import matplotlib.pyplot as plt\n",
      "import numpy as np\n",
      "\n",
      "x = []\n",
      "y = np.arange(22)\n",
      "\n",
      "files = []\n",
      "files.append(open('garzon_posta_4proc.o10355', 'r'))\n",
      "files.append(open('garzon_posta_8proc.o10356', 'r'))\n",
      "files.append(open('garzon_posta_16proc.o10357', 'r'))\n",
      "\n",
      "addValue = False\n",
      "colors = ['r-', 'b-', 'g-']\n",
      "nc = 0\n",
      "\n",
      "#filew = open(\"32.txt\", \"w\")\n",
      "for file in files:\n",
      "    for line in file:\n",
      "        \n",
      "        a = re.search('Current iteration: 500', line)\n",
      "        if a:\n",
      "            addValue = True\n",
      "            print 'a'\n",
      "            \n",
      "        m = re.search('Best cost trial: (\\d*\\.\\d*)', line)\n",
      "                \n",
      "        if m and addValue:\n",
      "            found = m.group(1)\n",
      "            x.append(found)\n",
      "            addValue = False\n",
      "    if len(x) == 24:\n",
      "        #plt.plot(y, x, colors[nc])\n",
      "        print x\n",
      "\n",
      "    file.close()\n",
      "\n",
      "\n",
      "#filew.close()\n",
      "\n",
      "#http://stackoverflow.com/questions/4805048/how-to-get-different-colored-lines-for-different-plots-in-a-single-figure\n",
      "plt.xlabel('Generaciones')\n",
      "plt.ylabel('Fitness')\n",
      "plt.title('Criterio de parada : 500 generaciones')\n",
      "\n",
      "\n",
      "#plt.legend(['y = x', 'y = 2x'], loc='upper left')\n",
      "#plt.savefig('criterio_parada.png')\n",
      "#plt.show()\n",
      "\n",
      "\n"
     ],
     "language": "python",
     "metadata": {},
     "outputs": [
      {
       "output_type": "stream",
       "stream": "stdout",
       "text": [
        "a\n",
        "a"
       ]
      },
      {
       "output_type": "stream",
       "stream": "stdout",
       "text": [
        "\n",
        "a"
       ]
      },
      {
       "output_type": "stream",
       "stream": "stdout",
       "text": [
        "\n",
        "a"
       ]
      },
      {
       "output_type": "stream",
       "stream": "stdout",
       "text": [
        "\n",
        "a"
       ]
      },
      {
       "output_type": "stream",
       "stream": "stdout",
       "text": [
        "\n",
        "a"
       ]
      },
      {
       "output_type": "stream",
       "stream": "stdout",
       "text": [
        "\n",
        "a"
       ]
      },
      {
       "output_type": "stream",
       "stream": "stdout",
       "text": [
        "\n",
        "a\n",
        "a"
       ]
      },
      {
       "output_type": "stream",
       "stream": "stdout",
       "text": [
        "\n",
        "a"
       ]
      },
      {
       "output_type": "stream",
       "stream": "stdout",
       "text": [
        "\n",
        "a"
       ]
      },
      {
       "output_type": "stream",
       "stream": "stdout",
       "text": [
        "\n",
        "a"
       ]
      },
      {
       "output_type": "stream",
       "stream": "stdout",
       "text": [
        "\n",
        "a"
       ]
      },
      {
       "output_type": "stream",
       "stream": "stdout",
       "text": [
        "\n",
        "a"
       ]
      },
      {
       "output_type": "stream",
       "stream": "stdout",
       "text": [
        "\n",
        "a"
       ]
      },
      {
       "output_type": "stream",
       "stream": "stdout",
       "text": [
        "\n",
        "a\n",
        "a"
       ]
      },
      {
       "output_type": "stream",
       "stream": "stdout",
       "text": [
        "\n",
        "a"
       ]
      },
      {
       "output_type": "stream",
       "stream": "stdout",
       "text": [
        "\n",
        "a"
       ]
      },
      {
       "output_type": "stream",
       "stream": "stdout",
       "text": [
        "\n",
        "a"
       ]
      },
      {
       "output_type": "stream",
       "stream": "stdout",
       "text": [
        "\n",
        "a"
       ]
      },
      {
       "output_type": "stream",
       "stream": "stdout",
       "text": [
        "\n",
        "a"
       ]
      },
      {
       "output_type": "stream",
       "stream": "stdout",
       "text": [
        "\n",
        "a"
       ]
      },
      {
       "output_type": "stream",
       "stream": "stdout",
       "text": [
        "\n",
        "a\n",
        "['14.8305', '14.9406', '15.5347', '15.0366', '15.0854', '14.9271', '15.2771', '15.2771', '14.9905', '15.6533', '15.1775', '15.2174', '15.0852', '15.2537', '15.3406', '15.3406', '15.3502', '15.1919', '14.8706', '15.2337', '14.9858', '15.2366', '15.1875', '15.1875']\n"
       ]
      },
      {
       "metadata": {},
       "output_type": "pyout",
       "prompt_number": 2,
       "text": [
        "<matplotlib.text.Text at 0x5f4e530>"
       ]
      }
     ],
     "prompt_number": 2
    },
    {
     "cell_type": "code",
     "collapsed": false,
     "input": [],
     "language": "python",
     "metadata": {},
     "outputs": []
    },
    {
     "cell_type": "code",
     "collapsed": false,
     "input": [],
     "language": "python",
     "metadata": {},
     "outputs": [],
     "prompt_number": 0
    },
    {
     "cell_type": "code",
     "collapsed": false,
     "input": [],
     "language": "python",
     "metadata": {},
     "outputs": [],
     "prompt_number": 0
    },
    {
     "cell_type": "code",
     "collapsed": false,
     "input": [],
     "language": "python",
     "metadata": {},
     "outputs": []
    }
   ],
   "metadata": {}
  }
 ]
}