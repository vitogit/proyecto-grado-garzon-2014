{
 "metadata": {
  "name": "",
  "signature": "sha256:2373d93ddb9caffa7d0a8642eb24ee144b637f4bd65e8f026a9c70376694cde7"
 },
 "nbformat": 3,
 "nbformat_minor": 0,
 "worksheets": [
  {
   "cells": [
    {
     "cell_type": "code",
     "collapsed": false,
     "input": [
      "import re\n",
      "#%matplotlib inline\n",
      "import matplotlib\n",
      "import matplotlib.pyplot as plt\n",
      "import numpy as np\n",
      "\n",
      "x = []\n",
      "y = np.arange(501)\n",
      "\n",
      "files = []\n",
      "files.append(open('garzon_posta_4proc.o10355', 'r'))\n",
      "files.append(open('garzon_posta_8proc.o10356', 'r'))\n",
      "files.append(open('garzon_posta_16proc.o10357', 'r'))\n",
      "\n",
      "addValue = True\n",
      "colors = ['r-', 'b-', 'g-']\n",
      "nc = 0\n",
      "\n",
      "#filew = open(\"32.txt\", \"w\")\n",
      "for file in files:\n",
      "    for line in file:\n",
      "        m = re.search('Best cost trial: (\\d*\\.\\d*)', line)\n",
      "                \n",
      "        if m and addValue:\n",
      "            found = m.group(1)\n",
      "            x.append(found)\n",
      "            addValue = True\n",
      "            #filew.write(found+\"\\n\")\n",
      "\n",
      "        if len(x) == 501:\n",
      "            plt.plot(y, x, colors[nc])\n",
      "            x=[]\n",
      "\n",
      "    file.close()\n",
      "    nc = nc + 1\n",
      "\n",
      "\n",
      "#filew.close()\n",
      "\n",
      "#http://stackoverflow.com/questions/4805048/how-to-get-different-colored-lines-for-different-plots-in-a-single-figure\n",
      "plt.xlabel('Generaciones')\n",
      "plt.ylabel('Fitness')\n",
      "plt.title('Criterio de parada : 500 generaciones')\n",
      "\n",
      "\n",
      "#plt.legend(['y = x', 'y = 2x'], loc='upper left')\n",
      "plt.savefig('criterio_parada.png')\n",
      "plt.show()\n",
      "\n",
      "\n"
     ],
     "language": "python",
     "metadata": {},
     "outputs": []
    }
   ],
   "metadata": {}
  }
 ]
}